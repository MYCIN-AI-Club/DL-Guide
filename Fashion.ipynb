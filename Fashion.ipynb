{
  "nbformat": 4,
  "nbformat_minor": 0,
  "metadata": {
    "colab": {
      "provenance": [],
      "collapsed_sections": [],
      "authorship_tag": "ABX9TyM3RO4nnfVCQbwavt4UvsrT",
      "include_colab_link": true
    },
    "kernelspec": {
      "name": "python3",
      "display_name": "Python 3"
    },
    "language_info": {
      "name": "python"
    }
  },
  "cells": [
    {
      "cell_type": "markdown",
      "metadata": {
        "id": "view-in-github",
        "colab_type": "text"
      },
      "source": [
        "<a href=\"https://colab.research.google.com/github/invinciblebansal/DL-Guide/blob/main/Fashion.ipynb\" target=\"_parent\"><img src=\"https://colab.research.google.com/assets/colab-badge.svg\" alt=\"Open In Colab\"/></a>"
      ]
    },
    {
      "cell_type": "markdown",
      "source": [
        "Downloading the current verion of keras tuner"
      ],
      "metadata": {
        "id": "1ytmHga3nlhp"
      }
    },
    {
      "cell_type": "code",
      "source": [
        "!pip install keras-tuner"
      ],
      "metadata": {
        "colab": {
          "base_uri": "https://localhost:8080/"
        },
        "id": "rYbiHmCOpGsj",
        "outputId": "81b90174-4f8e-48a6-b5b1-3d75bf547ceb"
      },
      "execution_count": null,
      "outputs": [
        {
          "output_type": "stream",
          "name": "stdout",
          "text": [
            "Looking in indexes: https://pypi.org/simple, https://us-python.pkg.dev/colab-wheels/public/simple/\n",
            "Collecting keras-tuner\n",
            "  Downloading keras_tuner-1.1.3-py3-none-any.whl (135 kB)\n",
            "\u001b[K     |████████████████████████████████| 135 kB 5.1 MB/s \n",
            "\u001b[?25hRequirement already satisfied: packaging in /usr/local/lib/python3.7/dist-packages (from keras-tuner) (21.3)\n",
            "Requirement already satisfied: requests in /usr/local/lib/python3.7/dist-packages (from keras-tuner) (2.23.0)\n",
            "Requirement already satisfied: tensorboard in /usr/local/lib/python3.7/dist-packages (from keras-tuner) (2.8.0)\n",
            "Requirement already satisfied: ipython in /usr/local/lib/python3.7/dist-packages (from keras-tuner) (7.9.0)\n",
            "Requirement already satisfied: numpy in /usr/local/lib/python3.7/dist-packages (from keras-tuner) (1.21.6)\n",
            "Collecting kt-legacy\n",
            "  Downloading kt_legacy-1.0.4-py3-none-any.whl (9.6 kB)\n",
            "Requirement already satisfied: pexpect in /usr/local/lib/python3.7/dist-packages (from ipython->keras-tuner) (4.8.0)\n",
            "Requirement already satisfied: decorator in /usr/local/lib/python3.7/dist-packages (from ipython->keras-tuner) (4.4.2)\n",
            "Requirement already satisfied: traitlets>=4.2 in /usr/local/lib/python3.7/dist-packages (from ipython->keras-tuner) (5.1.1)\n",
            "Requirement already satisfied: pygments in /usr/local/lib/python3.7/dist-packages (from ipython->keras-tuner) (2.6.1)\n",
            "Requirement already satisfied: backcall in /usr/local/lib/python3.7/dist-packages (from ipython->keras-tuner) (0.2.0)\n",
            "Requirement already satisfied: prompt-toolkit<2.1.0,>=2.0.0 in /usr/local/lib/python3.7/dist-packages (from ipython->keras-tuner) (2.0.10)\n",
            "Requirement already satisfied: setuptools>=18.5 in /usr/local/lib/python3.7/dist-packages (from ipython->keras-tuner) (57.4.0)\n",
            "Collecting jedi>=0.10\n",
            "  Downloading jedi-0.18.1-py2.py3-none-any.whl (1.6 MB)\n",
            "\u001b[K     |████████████████████████████████| 1.6 MB 55.8 MB/s \n",
            "\u001b[?25hRequirement already satisfied: pickleshare in /usr/local/lib/python3.7/dist-packages (from ipython->keras-tuner) (0.7.5)\n",
            "Requirement already satisfied: parso<0.9.0,>=0.8.0 in /usr/local/lib/python3.7/dist-packages (from jedi>=0.10->ipython->keras-tuner) (0.8.3)\n",
            "Requirement already satisfied: six>=1.9.0 in /usr/local/lib/python3.7/dist-packages (from prompt-toolkit<2.1.0,>=2.0.0->ipython->keras-tuner) (1.15.0)\n",
            "Requirement already satisfied: wcwidth in /usr/local/lib/python3.7/dist-packages (from prompt-toolkit<2.1.0,>=2.0.0->ipython->keras-tuner) (0.2.5)\n",
            "Requirement already satisfied: pyparsing!=3.0.5,>=2.0.2 in /usr/local/lib/python3.7/dist-packages (from packaging->keras-tuner) (3.0.9)\n",
            "Requirement already satisfied: ptyprocess>=0.5 in /usr/local/lib/python3.7/dist-packages (from pexpect->ipython->keras-tuner) (0.7.0)\n",
            "Requirement already satisfied: urllib3!=1.25.0,!=1.25.1,<1.26,>=1.21.1 in /usr/local/lib/python3.7/dist-packages (from requests->keras-tuner) (1.24.3)\n",
            "Requirement already satisfied: idna<3,>=2.5 in /usr/local/lib/python3.7/dist-packages (from requests->keras-tuner) (2.10)\n",
            "Requirement already satisfied: chardet<4,>=3.0.2 in /usr/local/lib/python3.7/dist-packages (from requests->keras-tuner) (3.0.4)\n",
            "Requirement already satisfied: certifi>=2017.4.17 in /usr/local/lib/python3.7/dist-packages (from requests->keras-tuner) (2022.6.15)\n",
            "Requirement already satisfied: tensorboard-data-server<0.7.0,>=0.6.0 in /usr/local/lib/python3.7/dist-packages (from tensorboard->keras-tuner) (0.6.1)\n",
            "Requirement already satisfied: absl-py>=0.4 in /usr/local/lib/python3.7/dist-packages (from tensorboard->keras-tuner) (1.2.0)\n",
            "Requirement already satisfied: tensorboard-plugin-wit>=1.6.0 in /usr/local/lib/python3.7/dist-packages (from tensorboard->keras-tuner) (1.8.1)\n",
            "Requirement already satisfied: google-auth<3,>=1.6.3 in /usr/local/lib/python3.7/dist-packages (from tensorboard->keras-tuner) (1.35.0)\n",
            "Requirement already satisfied: werkzeug>=0.11.15 in /usr/local/lib/python3.7/dist-packages (from tensorboard->keras-tuner) (1.0.1)\n",
            "Requirement already satisfied: wheel>=0.26 in /usr/local/lib/python3.7/dist-packages (from tensorboard->keras-tuner) (0.37.1)\n",
            "Requirement already satisfied: markdown>=2.6.8 in /usr/local/lib/python3.7/dist-packages (from tensorboard->keras-tuner) (3.4.1)\n",
            "Requirement already satisfied: grpcio>=1.24.3 in /usr/local/lib/python3.7/dist-packages (from tensorboard->keras-tuner) (1.48.1)\n",
            "Requirement already satisfied: google-auth-oauthlib<0.5,>=0.4.1 in /usr/local/lib/python3.7/dist-packages (from tensorboard->keras-tuner) (0.4.6)\n",
            "Requirement already satisfied: protobuf>=3.6.0 in /usr/local/lib/python3.7/dist-packages (from tensorboard->keras-tuner) (3.17.3)\n",
            "Requirement already satisfied: cachetools<5.0,>=2.0.0 in /usr/local/lib/python3.7/dist-packages (from google-auth<3,>=1.6.3->tensorboard->keras-tuner) (4.2.4)\n",
            "Requirement already satisfied: rsa<5,>=3.1.4 in /usr/local/lib/python3.7/dist-packages (from google-auth<3,>=1.6.3->tensorboard->keras-tuner) (4.9)\n",
            "Requirement already satisfied: pyasn1-modules>=0.2.1 in /usr/local/lib/python3.7/dist-packages (from google-auth<3,>=1.6.3->tensorboard->keras-tuner) (0.2.8)\n",
            "Requirement already satisfied: requests-oauthlib>=0.7.0 in /usr/local/lib/python3.7/dist-packages (from google-auth-oauthlib<0.5,>=0.4.1->tensorboard->keras-tuner) (1.3.1)\n",
            "Requirement already satisfied: importlib-metadata>=4.4 in /usr/local/lib/python3.7/dist-packages (from markdown>=2.6.8->tensorboard->keras-tuner) (4.12.0)\n",
            "Requirement already satisfied: zipp>=0.5 in /usr/local/lib/python3.7/dist-packages (from importlib-metadata>=4.4->markdown>=2.6.8->tensorboard->keras-tuner) (3.8.1)\n",
            "Requirement already satisfied: typing-extensions>=3.6.4 in /usr/local/lib/python3.7/dist-packages (from importlib-metadata>=4.4->markdown>=2.6.8->tensorboard->keras-tuner) (4.1.1)\n",
            "Requirement already satisfied: pyasn1<0.5.0,>=0.4.6 in /usr/local/lib/python3.7/dist-packages (from pyasn1-modules>=0.2.1->google-auth<3,>=1.6.3->tensorboard->keras-tuner) (0.4.8)\n",
            "Requirement already satisfied: oauthlib>=3.0.0 in /usr/local/lib/python3.7/dist-packages (from requests-oauthlib>=0.7.0->google-auth-oauthlib<0.5,>=0.4.1->tensorboard->keras-tuner) (3.2.0)\n",
            "Installing collected packages: jedi, kt-legacy, keras-tuner\n",
            "Successfully installed jedi-0.18.1 keras-tuner-1.1.3 kt-legacy-1.0.4\n"
          ]
        }
      ]
    },
    {
      "cell_type": "markdown",
      "source": [
        "Importing the necessary libraries"
      ],
      "metadata": {
        "id": "UxsFEuxMpMIf"
      }
    },
    {
      "cell_type": "code",
      "execution_count": null,
      "metadata": {
        "id": "i5ZiL96njeuc"
      },
      "outputs": [],
      "source": [
        "import tensorflow as tf\n",
        "from tensorflow import keras\n",
        "import numpy as np"
      ]
    },
    {
      "cell_type": "markdown",
      "source": [
        "checking its version to be 2.8.2"
      ],
      "metadata": {
        "id": "EkcEXz33n0LH"
      }
    },
    {
      "cell_type": "code",
      "source": [
        "print(tf.__version__)"
      ],
      "metadata": {
        "id": "hzPu0XQprHIi",
        "colab": {
          "base_uri": "https://localhost:8080/"
        },
        "outputId": "a56008e5-1289-4750-b010-4438bf10c196"
      },
      "execution_count": null,
      "outputs": [
        {
          "output_type": "stream",
          "name": "stdout",
          "text": [
            "2.8.2\n"
          ]
        }
      ]
    },
    {
      "cell_type": "markdown",
      "source": [
        "downloading the dataset from keras datasets itself"
      ],
      "metadata": {
        "id": "4vGFaqeQn41v"
      }
    },
    {
      "cell_type": "code",
      "source": [
        "fashion=keras.datasets.fashion_mnist"
      ],
      "metadata": {
        "id": "QKb7p9RerVPg"
      },
      "execution_count": null,
      "outputs": []
    },
    {
      "cell_type": "markdown",
      "source": [
        "loading the trsining and testing dataset from keras.datasets.fasion_mnist"
      ],
      "metadata": {
        "id": "mMTFl1hZn-2I"
      }
    },
    {
      "cell_type": "code",
      "source": [
        "(train_images,train_labels),(test_images,test_labels)=fashion.load_data()"
      ],
      "metadata": {
        "id": "7C6UBWCyrd2Y"
      },
      "execution_count": null,
      "outputs": []
    },
    {
      "cell_type": "markdown",
      "source": [
        "normalisation for better efficiency of model"
      ],
      "metadata": {
        "id": "hwA_c6XRoIlC"
      }
    },
    {
      "cell_type": "code",
      "source": [
        "train_images=train_images/255\n",
        "test_images=test_images/255"
      ],
      "metadata": {
        "id": "zuRStWRgrssM"
      },
      "execution_count": null,
      "outputs": []
    },
    {
      "cell_type": "markdown",
      "source": [
        "checking the shape of images"
      ],
      "metadata": {
        "id": "eioBoAyCoM2v"
      }
    },
    {
      "cell_type": "code",
      "source": [
        "train_images[0].shape\n"
      ],
      "metadata": {
        "id": "t5omTfLIscp9",
        "colab": {
          "base_uri": "https://localhost:8080/"
        },
        "outputId": "c8aed4fa-a863-4ba0-c410-83f1ac7ee590"
      },
      "execution_count": null,
      "outputs": [
        {
          "output_type": "execute_result",
          "data": {
            "text/plain": [
              "(28, 28)"
            ]
          },
          "metadata": {},
          "execution_count": 31
        }
      ]
    },
    {
      "cell_type": "markdown",
      "source": [
        "reshaping the images"
      ],
      "metadata": {
        "id": "QrCq6riAoPtw"
      }
    },
    {
      "cell_type": "code",
      "source": [
        "train_images=train_images.reshape(len(train_images),28,28,1)\n",
        "test_images=test_images.reshape(len(test_images),28,28,1)"
      ],
      "metadata": {
        "id": "4ZUaR0MUsgjI"
      },
      "execution_count": null,
      "outputs": []
    },
    {
      "cell_type": "markdown",
      "source": [
        "#Building the MODEL:"
      ],
      "metadata": {
        "id": "-RvX_1DloUyq"
      }
    },
    {
      "cell_type": "code",
      "source": [
        "def build_model(hp):\n",
        "    model=keras.Sequential([\n",
        "        keras.layers.Conv2D(\n",
        "            filters=hp.Int('conv_1_filter',min_value=64,max_value=128,step=16),\n",
        "            kernel_size=hp.Choice('conv_1_kernel',values=[3,5]),\n",
        "            activation='relu',\n",
        "            input_shape=(28,28,1)\n",
        "        ),\n",
        "        keras.layers.Conv2D(\n",
        "            filters=hp.Int('conv_2_filter',min_value=32,max_value=64,step=16),\n",
        "            kernel_size=hp.Choice('conv_2_kernel',values=[3,5]),\n",
        "            activation='relu'\n",
        "        ),\n",
        "        keras.layers.Flatten(),\n",
        "        keras.layers.Dense(\n",
        "            units=hp.Int('dense_1_units',min_value=32,max_value=128,step=16),\n",
        "            activation='relu'\n",
        "        ),\n",
        "        keras.layers.Dense(10,activation='softmax')\n",
        "    ])\n",
        "    model.compile(optimizer=keras.optimizers.Adam(hp.Choice('learning_rate', values=[1e-2,1e-3])),\n",
        "                loss='sparse_categorical_crossentropy',\n",
        "                metrics=['accuracy'])\n",
        "    return model\n",
        "        \n",
        "    \n"
      ],
      "metadata": {
        "id": "HEsh9mmTs_Od"
      },
      "execution_count": null,
      "outputs": []
    },
    {
      "cell_type": "markdown",
      "source": [
        "importing the hyperparameters to check the best model"
      ],
      "metadata": {
        "id": "dyNknxXDoeFo"
      }
    },
    {
      "cell_type": "code",
      "source": [
        "from kerastuner import RandomSearch\n",
        "from kerastuner.engine.hyperparameters import HyperParameters"
      ],
      "metadata": {
        "id": "oei_sD-zw98W"
      },
      "execution_count": null,
      "outputs": []
    },
    {
      "cell_type": "code",
      "source": [
        "tuner_search=RandomSearch(build_model,\n",
        "                          objective=\"val_accuracy\",\n",
        "                          max_trials=5,\n",
        "                          directory='output',\n",
        "                          project_name='FASHion')"
      ],
      "metadata": {
        "id": "F0aXwu0Dx9IQ"
      },
      "execution_count": null,
      "outputs": []
    },
    {
      "cell_type": "code",
      "source": [
        "tuner_search.search(train_images,train_labels,epochs=10,validation_split=0.1)"
      ],
      "metadata": {
        "id": "rka7DZX0zCo1"
      },
      "execution_count": null,
      "outputs": []
    },
    {
      "cell_type": "markdown",
      "source": [
        "getting the best model based on search "
      ],
      "metadata": {
        "id": "6F5PzmTQoxVZ"
      }
    },
    {
      "cell_type": "code",
      "source": [
        "model=tuner_search.get_best_models(num_models=1)[0]"
      ],
      "metadata": {
        "id": "H2g7OcJFilhO"
      },
      "execution_count": null,
      "outputs": []
    },
    {
      "cell_type": "code",
      "source": [
        "model.summary()"
      ],
      "metadata": {
        "colab": {
          "base_uri": "https://localhost:8080/"
        },
        "id": "OWFwlNnDmTO2",
        "outputId": "d626894b-ac0f-4c42-964c-e272536dc709"
      },
      "execution_count": null,
      "outputs": [
        {
          "output_type": "stream",
          "name": "stdout",
          "text": [
            "Model: \"sequential\"\n",
            "_________________________________________________________________\n",
            " Layer (type)                Output Shape              Param #   \n",
            "=================================================================\n",
            " conv2d (Conv2D)             (None, 26, 26, 128)       1280      \n",
            "                                                                 \n",
            " conv2d_1 (Conv2D)           (None, 22, 22, 48)        153648    \n",
            "                                                                 \n",
            " flatten (Flatten)           (None, 23232)             0         \n",
            "                                                                 \n",
            " dense (Dense)               (None, 64)                1486912   \n",
            "                                                                 \n",
            " dense_1 (Dense)             (None, 10)                650       \n",
            "                                                                 \n",
            "=================================================================\n",
            "Total params: 1,642,490\n",
            "Trainable params: 1,642,490\n",
            "Non-trainable params: 0\n",
            "_________________________________________________________________\n"
          ]
        }
      ]
    },
    {
      "cell_type": "markdown",
      "source": [
        "training our model on the best parameters found:"
      ],
      "metadata": {
        "id": "-J2-WNKoo6KY"
      }
    },
    {
      "cell_type": "code",
      "source": [
        "model.fit(train_images,train_labels,epochs=10,validation_split=0.1,initial_epoch=3)"
      ],
      "metadata": {
        "colab": {
          "base_uri": "https://localhost:8080/"
        },
        "id": "YS-2K3fnmVxl",
        "outputId": "0189cad9-485a-49b1-e34e-2ddd4c2e76b3"
      },
      "execution_count": null,
      "outputs": [
        {
          "output_type": "stream",
          "name": "stdout",
          "text": [
            "Epoch 4/10\n",
            "1688/1688 [==============================] - 10s 6ms/step - loss: 0.1890 - accuracy: 0.9284 - val_loss: 0.2517 - val_accuracy: 0.9128\n",
            "Epoch 5/10\n",
            "1688/1688 [==============================] - 9s 6ms/step - loss: 0.1418 - accuracy: 0.9474 - val_loss: 0.2657 - val_accuracy: 0.9127\n",
            "Epoch 6/10\n",
            "1688/1688 [==============================] - 9s 5ms/step - loss: 0.1059 - accuracy: 0.9601 - val_loss: 0.3000 - val_accuracy: 0.9097\n",
            "Epoch 7/10\n",
            "1688/1688 [==============================] - 9s 5ms/step - loss: 0.0769 - accuracy: 0.9711 - val_loss: 0.3270 - val_accuracy: 0.9105\n",
            "Epoch 8/10\n",
            "1688/1688 [==============================] - 9s 5ms/step - loss: 0.0575 - accuracy: 0.9785 - val_loss: 0.3824 - val_accuracy: 0.9137\n",
            "Epoch 9/10\n",
            "1688/1688 [==============================] - 9s 5ms/step - loss: 0.0434 - accuracy: 0.9844 - val_loss: 0.4234 - val_accuracy: 0.9137\n",
            "Epoch 10/10\n",
            "1688/1688 [==============================] - 9s 5ms/step - loss: 0.0344 - accuracy: 0.9871 - val_loss: 0.4665 - val_accuracy: 0.9168\n"
          ]
        },
        {
          "output_type": "execute_result",
          "data": {
            "text/plain": [
              "<keras.callbacks.History at 0x7f3eda49b110>"
            ]
          },
          "metadata": {},
          "execution_count": 51
        }
      ]
    },
    {
      "cell_type": "code",
      "source": [],
      "metadata": {
        "id": "ftjj8A0amw9W"
      },
      "execution_count": null,
      "outputs": []
    }
  ]
}