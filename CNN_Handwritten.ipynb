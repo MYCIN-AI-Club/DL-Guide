{
  "nbformat": 4,
  "nbformat_minor": 0,
  "metadata": {
    "colab": {
      "provenance": [],
      "authorship_tag": "ABX9TyNY0lYTmBtm4xZAGFI/fliX",
      "include_colab_link": true
    },
    "kernelspec": {
      "name": "python3",
      "display_name": "Python 3"
    },
    "language_info": {
      "name": "python"
    }
  },
  "cells": [
    {
      "cell_type": "markdown",
      "metadata": {
        "id": "view-in-github",
        "colab_type": "text"
      },
      "source": [
        "<a href=\"https://colab.research.google.com/github/invinciblebansal/DL-Guide/blob/main/CNN_Handwritten.ipynb\" target=\"_parent\"><img src=\"https://colab.research.google.com/assets/colab-badge.svg\" alt=\"Open In Colab\"/></a>"
      ]
    },
    {
      "cell_type": "code",
      "execution_count": null,
      "metadata": {
        "id": "o12ltLnsBFus"
      },
      "outputs": [],
      "source": [
        "from keras.datasets import mnist\n",
        "from keras.models import Sequential\n",
        "from keras.layers import Dense, Dropout , Conv2D, MaxPool2D, Flatten\n",
        "from keras.utils import np_utils\n",
        "import pandas as pd"
      ]
    },
    {
      "cell_type": "code",
      "source": [
        "from sklearn.metrics  import accuracy_score"
      ],
      "metadata": {
        "id": "PnIspxQ_Bxid"
      },
      "execution_count": null,
      "outputs": []
    },
    {
      "cell_type": "code",
      "source": [
        "(X_train, y_train),(X_test, y_test)=mnist.load_data()"
      ],
      "metadata": {
        "id": "r9oIZ9ZtBxqU"
      },
      "execution_count": null,
      "outputs": []
    },
    {
      "cell_type": "markdown",
      "source": [
        "RESHAPING THE DATASET:cnn supports only a specific shape of image so creates various challenges at time of data aquisition and model delopyment"
      ],
      "metadata": {
        "id": "br1ZfK0IXC7Q"
      }
    },
    {
      "cell_type": "code",
      "source": [
        "X_train = X_train.reshape(X_train.shape[0], 28, 28, 1)\n",
        "X_test = X_test.reshape(X_test.shape[0], 28,28,1)\n",
        "X_train = X_train.astype('float32')\n",
        "X_test = X_test.astype('float32')"
      ],
      "metadata": {
        "id": "2GryZfVNBxtc"
      },
      "execution_count": null,
      "outputs": []
    },
    {
      "cell_type": "markdown",
      "source": [
        "normalise the image to help training\n"
      ],
      "metadata": {
        "id": "N7fjzU1vaAtZ"
      }
    },
    {
      "cell_type": "code",
      "source": [
        "X_train /= 255\n",
        "X_test /= 255"
      ],
      "metadata": {
        "id": "FHAr70R8BxxE"
      },
      "execution_count": null,
      "outputs": []
    },
    {
      "cell_type": "code",
      "source": [
        "n_classes =10\n",
        "print(\"Shape before one hot encoding: \",y_train.shape)\n",
        "Y_train = np_utils.to_categorical(y_train, n_classes)\n",
        "Y_test = np_utils.to_categorical(y_test, n_classes)\n",
        "print(\"Shape after one hot encoding: \",Y_train.shape)"
      ],
      "metadata": {
        "colab": {
          "base_uri": "https://localhost:8080/"
        },
        "id": "wT2Pew03QCFn",
        "outputId": "5b8af290-0097-43c3-b1fd-0cbf3ea084af"
      },
      "execution_count": null,
      "outputs": [
        {
          "output_type": "stream",
          "name": "stdout",
          "text": [
            "Shape before one hot encoding:  (60000,)\n",
            "Shape after one hot encoding:  (60000, 10)\n"
          ]
        }
      ]
    },
    {
      "cell_type": "code",
      "source": [
        "model = Sequential()\n"
      ],
      "metadata": {
        "id": "2nn_-pO-RO3p"
      },
      "execution_count": null,
      "outputs": []
    },
    {
      "cell_type": "code",
      "source": [
        "model.add(Conv2D(25, kernel_size=(3,3), strides=(1,1), padding='valid',activation='relu', input_shape=(28,28,1)))\n",
        "model.add(MaxPool2D(pool_size=(1,1)))"
      ],
      "metadata": {
        "id": "VcaUyS2ERgv5"
      },
      "execution_count": null,
      "outputs": []
    },
    {
      "cell_type": "code",
      "source": [
        "model.add(Flatten())\n"
      ],
      "metadata": {
        "id": "37LeyQdeRO6f"
      },
      "execution_count": null,
      "outputs": []
    },
    {
      "cell_type": "code",
      "source": [
        "model.add(Dense(100,activation='relu'))"
      ],
      "metadata": {
        "id": "aiETCdKNRO9G"
      },
      "execution_count": null,
      "outputs": []
    },
    {
      "cell_type": "code",
      "source": [
        "model.add(Dense(10, activation='softmax'))"
      ],
      "metadata": {
        "id": "7Lgu8irXRPAH"
      },
      "execution_count": null,
      "outputs": []
    },
    {
      "cell_type": "code",
      "source": [
        "model.compile(loss='categorical_crossentropy', metrics=['accuracy'], optimizer='adam')"
      ],
      "metadata": {
        "id": "wo8gCs7pS5T5"
      },
      "execution_count": null,
      "outputs": []
    },
    {
      "cell_type": "code",
      "source": [
        "model.fit(X_train, Y_train, batch_size=128, epochs=10, validation_data=(X_test, Y_test))"
      ],
      "metadata": {
        "colab": {
          "base_uri": "https://localhost:8080/"
        },
        "id": "V1enEr4WS5XI",
        "outputId": "cee321c5-cf90-4058-d924-22fa5c7b9d91"
      },
      "execution_count": null,
      "outputs": [
        {
          "output_type": "stream",
          "name": "stdout",
          "text": [
            "Epoch 1/10\n",
            "469/469 [==============================] - 42s 88ms/step - loss: 0.2034 - accuracy: 0.9406 - val_loss: 0.0773 - val_accuracy: 0.9760\n",
            "Epoch 2/10\n",
            "469/469 [==============================] - 42s 90ms/step - loss: 0.0602 - accuracy: 0.9825 - val_loss: 0.0567 - val_accuracy: 0.9817\n",
            "Epoch 3/10\n",
            "469/469 [==============================] - 41s 88ms/step - loss: 0.0358 - accuracy: 0.9892 - val_loss: 0.0563 - val_accuracy: 0.9808\n",
            "Epoch 4/10\n",
            "469/469 [==============================] - 41s 88ms/step - loss: 0.0236 - accuracy: 0.9931 - val_loss: 0.0556 - val_accuracy: 0.9823\n",
            "Epoch 5/10\n",
            "469/469 [==============================] - 41s 88ms/step - loss: 0.0146 - accuracy: 0.9957 - val_loss: 0.0518 - val_accuracy: 0.9847\n",
            "Epoch 6/10\n",
            "469/469 [==============================] - 41s 88ms/step - loss: 0.0104 - accuracy: 0.9970 - val_loss: 0.0689 - val_accuracy: 0.9817\n",
            "Epoch 7/10\n",
            "469/469 [==============================] - 42s 90ms/step - loss: 0.0085 - accuracy: 0.9971 - val_loss: 0.0570 - val_accuracy: 0.9838\n",
            "Epoch 8/10\n",
            "469/469 [==============================] - 41s 88ms/step - loss: 0.0050 - accuracy: 0.9989 - val_loss: 0.0566 - val_accuracy: 0.9848\n",
            "Epoch 9/10\n",
            "469/469 [==============================] - 46s 97ms/step - loss: 0.0028 - accuracy: 0.9993 - val_loss: 0.0633 - val_accuracy: 0.9834\n",
            "Epoch 10/10\n",
            "469/469 [==============================] - 42s 89ms/step - loss: 0.0031 - accuracy: 0.9993 - val_loss: 0.0688 - val_accuracy: 0.9836\n"
          ]
        },
        {
          "output_type": "execute_result",
          "data": {
            "text/plain": [
              "<keras.callbacks.History at 0x7fe1195c39d0>"
            ]
          },
          "metadata": {},
          "execution_count": 25
        }
      ]
    }
  ]
}